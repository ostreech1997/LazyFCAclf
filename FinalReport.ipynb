{
 "cells": [
  {
   "cell_type": "code",
   "execution_count": 1,
   "metadata": {},
   "outputs": [],
   "source": [
    "import numpy as np\n",
    "import matplotlib.pyplot as plt \n",
    "import pandas as pd \n",
    "from LazyFCA import cross_validation, preprocessing"
   ]
  },
  {
   "cell_type": "markdown",
   "metadata": {},
   "source": [
    "# Loading and preprocessing datasets"
   ]
  },
  {
   "cell_type": "markdown",
   "metadata": {},
   "source": [
    "## First data set: Tic-Tac-Toe End game Dataset UCI\n",
    "### link: https://archive.ics.uci.edu/ml/datasets/Tic-Tac-Toe+Endgame\n"
   ]
  },
  {
   "cell_type": "code",
   "execution_count": 2,
   "metadata": {},
   "outputs": [],
   "source": [
    "df_TTT = pd.read_csv('Data/tic-tac-toe-endgame.csv')\n",
    "target_column_TTT = 'V10'\n",
    "target_dict = {'negative':0, 'positive':1}\n",
    "shuffle = True"
   ]
  },
  {
   "cell_type": "markdown",
   "metadata": {},
   "source": [
    "## Second data set: Mushroom Classification"
   ]
  },
  {
   "cell_type": "code",
   "execution_count": 4,
   "metadata": {},
   "outputs": [],
   "source": [
    "df_MC = pd.read_csv('Data/Mushrooms/mushrooms.csv')\n",
    "target_column_MC = 'class'\n",
    "target_dict = {'p':0, 'e':1}\n",
    "shuffle = True"
   ]
  },
  {
   "cell_type": "markdown",
   "metadata": {},
   "source": [
    "Preprocessing data: from categorical to binary features"
   ]
  },
  {
   "cell_type": "code",
   "execution_count": 3,
   "metadata": {},
   "outputs": [],
   "source": [
    "data_TTT = preprocessing(df=df_TTT, target_column='V10', target_dict=target_dict, shuffle=shuffle)"
   ]
  },
  {
   "cell_type": "code",
   "execution_count": 5,
   "metadata": {},
   "outputs": [],
   "source": [
    "data_MC = preprocessing(df=df_MC, target_column='class', target_dict=target_dict, shuffle=shuffle)"
   ]
  },
  {
   "cell_type": "markdown",
   "metadata": {},
   "source": [
    "data_MC dataset is too big, we use only 1000 random examples."
   ]
  },
  {
   "cell_type": "code",
   "execution_count": 7,
   "metadata": {},
   "outputs": [],
   "source": [
    "data_MC_short = data_MC[:1000]"
   ]
  },
  {
   "cell_type": "markdown",
   "metadata": {},
   "source": [
    "# Base algorithm"
   ]
  },
  {
   "cell_type": "markdown",
   "metadata": {},
   "source": [
    "## Tic-Tac-Toe End game Dataset UCI"
   ]
  },
  {
   "cell_type": "code",
   "execution_count": 24,
   "metadata": {},
   "outputs": [
    {
     "name": "stderr",
     "output_type": "stream",
     "text": [
      "100%|██████████| 319/319 [04:08<00:00,  1.10it/s]\n",
      "100%|██████████| 319/319 [04:16<00:00,  1.21it/s]\n",
      "100%|██████████| 320/320 [04:17<00:00,  1.23it/s]\n"
     ]
    }
   ],
   "source": [
    "Alg1_TTT = cross_validation(data_TTT, target_column='V10',\n",
    "                            Kfolds=3, shuffle=True, model='FCA',\n",
    "                                 model_params= {'max_int':1, 'min_elems':0,'balance':False, 'prop':1})"
   ]
  },
  {
   "cell_type": "code",
   "execution_count": 27,
   "metadata": {},
   "outputs": [],
   "source": [
    "Alg1_TTT_df = pd.DataFrame(Alg1_TTT)\n",
    "Alg1_TTT_df['Time'] = ['04:08', '04:16', '04:17']\n",
    "Alg1_TTT_df = Alg1_TTT_df.reset_index()"
   ]
  },
  {
   "cell_type": "code",
   "execution_count": 28,
   "metadata": {},
   "outputs": [
    {
     "data": {
      "text/html": [
       "<div>\n",
       "<style scoped>\n",
       "    .dataframe tbody tr th:only-of-type {\n",
       "        vertical-align: middle;\n",
       "    }\n",
       "\n",
       "    .dataframe tbody tr th {\n",
       "        vertical-align: top;\n",
       "    }\n",
       "\n",
       "    .dataframe thead th {\n",
       "        text-align: right;\n",
       "    }\n",
       "</style>\n",
       "<table border=\"1\" class=\"dataframe\">\n",
       "  <thead>\n",
       "    <tr style=\"text-align: right;\">\n",
       "      <th></th>\n",
       "      <th>index</th>\n",
       "      <th>accuracy</th>\n",
       "      <th>precision</th>\n",
       "      <th>recall</th>\n",
       "      <th>ROC_AUC</th>\n",
       "      <th>Time</th>\n",
       "    </tr>\n",
       "  </thead>\n",
       "  <tbody>\n",
       "    <tr>\n",
       "      <th>0</th>\n",
       "      <td>0</td>\n",
       "      <td>0.699060</td>\n",
       "      <td>0.676768</td>\n",
       "      <td>1.000000</td>\n",
       "      <td>0.593220</td>\n",
       "      <td>04:08</td>\n",
       "    </tr>\n",
       "    <tr>\n",
       "      <th>1</th>\n",
       "      <td>1</td>\n",
       "      <td>0.777429</td>\n",
       "      <td>0.749104</td>\n",
       "      <td>0.995238</td>\n",
       "      <td>0.676518</td>\n",
       "      <td>04:16</td>\n",
       "    </tr>\n",
       "    <tr>\n",
       "      <th>2</th>\n",
       "      <td>2</td>\n",
       "      <td>0.787500</td>\n",
       "      <td>0.763441</td>\n",
       "      <td>0.990698</td>\n",
       "      <td>0.681063</td>\n",
       "      <td>04:17</td>\n",
       "    </tr>\n",
       "  </tbody>\n",
       "</table>\n",
       "</div>"
      ],
      "text/plain": [
       "   index  accuracy  precision    recall   ROC_AUC   Time\n",
       "0      0  0.699060   0.676768  1.000000  0.593220  04:08\n",
       "1      1  0.777429   0.749104  0.995238  0.676518  04:16\n",
       "2      2  0.787500   0.763441  0.990698  0.681063  04:17"
      ]
     },
     "execution_count": 28,
     "metadata": {},
     "output_type": "execute_result"
    }
   ],
   "source": [
    "Alg1_TTT_df"
   ]
  },
  {
   "cell_type": "markdown",
   "metadata": {},
   "source": [
    "## Mushroom Classification"
   ]
  },
  {
   "cell_type": "code",
   "execution_count": 19,
   "metadata": {},
   "outputs": [
    {
     "name": "stderr",
     "output_type": "stream",
     "text": [
      "100%|██████████| 333/333 [22:46<00:00,  3.64s/it]\n",
      "100%|██████████| 333/333 [21:56<00:00,  4.07s/it]\n",
      "100%|██████████| 334/334 [23:16<00:00,  3.69s/it]\n"
     ]
    }
   ],
   "source": [
    "Alg1_MC = cross_validation(data_MC_short, target_column='class',\n",
    "                            Kfolds=3, shuffle=True, model='FCA',\n",
    "                                 model_params= {'max_int':1, 'min_elems':0,'balance':False, 'prop':1})"
   ]
  },
  {
   "cell_type": "code",
   "execution_count": 20,
   "metadata": {},
   "outputs": [],
   "source": [
    "Alg1_MC_df = pd.DataFrame(Alg1_MC)\n",
    "Alg1_MC_df['Time'] = ['22:46', '21:56', '23:16']\n",
    "Alg1_MC_df = Alg1_MC_df.reset_index()"
   ]
  },
  {
   "cell_type": "code",
   "execution_count": 21,
   "metadata": {},
   "outputs": [
    {
     "data": {
      "text/html": [
       "<div>\n",
       "<style scoped>\n",
       "    .dataframe tbody tr th:only-of-type {\n",
       "        vertical-align: middle;\n",
       "    }\n",
       "\n",
       "    .dataframe tbody tr th {\n",
       "        vertical-align: top;\n",
       "    }\n",
       "\n",
       "    .dataframe thead th {\n",
       "        text-align: right;\n",
       "    }\n",
       "</style>\n",
       "<table border=\"1\" class=\"dataframe\">\n",
       "  <thead>\n",
       "    <tr style=\"text-align: right;\">\n",
       "      <th></th>\n",
       "      <th>index</th>\n",
       "      <th>accuracy</th>\n",
       "      <th>precision</th>\n",
       "      <th>recall</th>\n",
       "      <th>ROC_AUC</th>\n",
       "      <th>Time</th>\n",
       "    </tr>\n",
       "  </thead>\n",
       "  <tbody>\n",
       "    <tr>\n",
       "      <th>0</th>\n",
       "      <td>0</td>\n",
       "      <td>0.990991</td>\n",
       "      <td>0.982249</td>\n",
       "      <td>1.0</td>\n",
       "      <td>0.991018</td>\n",
       "      <td>22:46</td>\n",
       "    </tr>\n",
       "    <tr>\n",
       "      <th>1</th>\n",
       "      <td>1</td>\n",
       "      <td>1.000000</td>\n",
       "      <td>1.000000</td>\n",
       "      <td>1.0</td>\n",
       "      <td>1.000000</td>\n",
       "      <td>21:56</td>\n",
       "    </tr>\n",
       "    <tr>\n",
       "      <th>2</th>\n",
       "      <td>2</td>\n",
       "      <td>1.000000</td>\n",
       "      <td>1.000000</td>\n",
       "      <td>1.0</td>\n",
       "      <td>1.000000</td>\n",
       "      <td>23:16</td>\n",
       "    </tr>\n",
       "  </tbody>\n",
       "</table>\n",
       "</div>"
      ],
      "text/plain": [
       "   index  accuracy  precision  recall   ROC_AUC   Time\n",
       "0      0  0.990991   0.982249     1.0  0.991018  22:46\n",
       "1      1  1.000000   1.000000     1.0  1.000000  21:56\n",
       "2      2  1.000000   1.000000     1.0  1.000000  23:16"
      ]
     },
     "execution_count": 21,
     "metadata": {},
     "output_type": "execute_result"
    }
   ],
   "source": [
    "Alg1_MC_df"
   ]
  },
  {
   "cell_type": "code",
   "execution_count": null,
   "metadata": {},
   "outputs": [],
   "source": []
  },
  {
   "cell_type": "markdown",
   "metadata": {},
   "source": [
    "# Second algorithm"
   ]
  },
  {
   "cell_type": "markdown",
   "metadata": {},
   "source": [
    "## Tic-Tac-Toe End game Dataset UCI"
   ]
  },
  {
   "cell_type": "code",
   "execution_count": 30,
   "metadata": {},
   "outputs": [
    {
     "name": "stderr",
     "output_type": "stream",
     "text": [
      "100%|██████████| 319/319 [01:21<00:00,  4.07it/s]\n",
      "100%|██████████| 319/319 [01:26<00:00,  3.54it/s]\n",
      "100%|██████████| 320/320 [01:19<00:00,  4.13it/s]\n"
     ]
    }
   ],
   "source": [
    "Alg2_TTT = cross_validation(data_TTT, target_column='V10',\n",
    "                            Kfolds=3, shuffle=True, model='FCA',\n",
    "                                 model_params= {'max_int':1, 'min_elems':0.7,'balance':False, 'prop':1})"
   ]
  },
  {
   "cell_type": "code",
   "execution_count": 34,
   "metadata": {},
   "outputs": [],
   "source": [
    "Alg2_TTT_df = pd.DataFrame(Alg2_TTT)\n",
    "Alg2_TTT_df['Time'] = ['01:21', '01:26', '01:19']\n",
    "Alg2_TTT_df = Alg2_TTT_df.reset_index()"
   ]
  },
  {
   "cell_type": "code",
   "execution_count": 35,
   "metadata": {},
   "outputs": [
    {
     "data": {
      "text/html": [
       "<div>\n",
       "<style scoped>\n",
       "    .dataframe tbody tr th:only-of-type {\n",
       "        vertical-align: middle;\n",
       "    }\n",
       "\n",
       "    .dataframe tbody tr th {\n",
       "        vertical-align: top;\n",
       "    }\n",
       "\n",
       "    .dataframe thead th {\n",
       "        text-align: right;\n",
       "    }\n",
       "</style>\n",
       "<table border=\"1\" class=\"dataframe\">\n",
       "  <thead>\n",
       "    <tr style=\"text-align: right;\">\n",
       "      <th></th>\n",
       "      <th>index</th>\n",
       "      <th>accuracy</th>\n",
       "      <th>precision</th>\n",
       "      <th>recall</th>\n",
       "      <th>ROC_AUC</th>\n",
       "      <th>Time</th>\n",
       "    </tr>\n",
       "  </thead>\n",
       "  <tbody>\n",
       "    <tr>\n",
       "      <th>0</th>\n",
       "      <td>0</td>\n",
       "      <td>0.739812</td>\n",
       "      <td>0.705674</td>\n",
       "      <td>1.0</td>\n",
       "      <td>0.654167</td>\n",
       "      <td>01:21</td>\n",
       "    </tr>\n",
       "    <tr>\n",
       "      <th>1</th>\n",
       "      <td>1</td>\n",
       "      <td>0.824451</td>\n",
       "      <td>0.796364</td>\n",
       "      <td>1.0</td>\n",
       "      <td>0.720000</td>\n",
       "      <td>01:26</td>\n",
       "    </tr>\n",
       "    <tr>\n",
       "      <th>2</th>\n",
       "      <td>2</td>\n",
       "      <td>0.765625</td>\n",
       "      <td>0.734982</td>\n",
       "      <td>1.0</td>\n",
       "      <td>0.665179</td>\n",
       "      <td>01:19</td>\n",
       "    </tr>\n",
       "  </tbody>\n",
       "</table>\n",
       "</div>"
      ],
      "text/plain": [
       "   index  accuracy  precision  recall   ROC_AUC   Time\n",
       "0      0  0.739812   0.705674     1.0  0.654167  01:21\n",
       "1      1  0.824451   0.796364     1.0  0.720000  01:26\n",
       "2      2  0.765625   0.734982     1.0  0.665179  01:19"
      ]
     },
     "execution_count": 35,
     "metadata": {},
     "output_type": "execute_result"
    }
   ],
   "source": [
    "Alg2_TTT_df"
   ]
  },
  {
   "cell_type": "markdown",
   "metadata": {},
   "source": [
    "## Mushroom Classification"
   ]
  },
  {
   "cell_type": "code",
   "execution_count": 38,
   "metadata": {},
   "outputs": [
    {
     "name": "stderr",
     "output_type": "stream",
     "text": [
      "100%|██████████| 333/333 [03:11<00:00,  1.57it/s]\n",
      "100%|██████████| 333/333 [03:02<00:00,  2.72it/s]\n",
      "100%|██████████| 334/334 [03:04<00:00,  1.68it/s]\n"
     ]
    }
   ],
   "source": [
    "Alg2_MC = cross_validation(data_MC_short, target_column='class',\n",
    "                            Kfolds=3, shuffle=True, model='FCA',\n",
    "                                 model_params= {'max_int':1, 'min_elems':0.9,'balance':False, 'prop':1})"
   ]
  },
  {
   "cell_type": "code",
   "execution_count": 39,
   "metadata": {},
   "outputs": [],
   "source": [
    "Alg2_MC_df = pd.DataFrame(Alg2_MC)\n",
    "Alg2_MC_df['Time'] = ['03:11', '03:02', '03:04']\n",
    "Alg2_MC_df = Alg2_MC_df.reset_index()"
   ]
  },
  {
   "cell_type": "code",
   "execution_count": 40,
   "metadata": {},
   "outputs": [
    {
     "data": {
      "text/html": [
       "<div>\n",
       "<style scoped>\n",
       "    .dataframe tbody tr th:only-of-type {\n",
       "        vertical-align: middle;\n",
       "    }\n",
       "\n",
       "    .dataframe tbody tr th {\n",
       "        vertical-align: top;\n",
       "    }\n",
       "\n",
       "    .dataframe thead th {\n",
       "        text-align: right;\n",
       "    }\n",
       "</style>\n",
       "<table border=\"1\" class=\"dataframe\">\n",
       "  <thead>\n",
       "    <tr style=\"text-align: right;\">\n",
       "      <th></th>\n",
       "      <th>index</th>\n",
       "      <th>accuracy</th>\n",
       "      <th>precision</th>\n",
       "      <th>recall</th>\n",
       "      <th>ROC_AUC</th>\n",
       "      <th>Time</th>\n",
       "    </tr>\n",
       "  </thead>\n",
       "  <tbody>\n",
       "    <tr>\n",
       "      <th>0</th>\n",
       "      <td>0</td>\n",
       "      <td>0.981982</td>\n",
       "      <td>0.965318</td>\n",
       "      <td>1.0</td>\n",
       "      <td>0.981928</td>\n",
       "      <td>03:11</td>\n",
       "    </tr>\n",
       "    <tr>\n",
       "      <th>1</th>\n",
       "      <td>1</td>\n",
       "      <td>0.981982</td>\n",
       "      <td>0.967213</td>\n",
       "      <td>1.0</td>\n",
       "      <td>0.980769</td>\n",
       "      <td>03:02</td>\n",
       "    </tr>\n",
       "    <tr>\n",
       "      <th>2</th>\n",
       "      <td>2</td>\n",
       "      <td>0.982036</td>\n",
       "      <td>0.966851</td>\n",
       "      <td>1.0</td>\n",
       "      <td>0.981132</td>\n",
       "      <td>03:04</td>\n",
       "    </tr>\n",
       "  </tbody>\n",
       "</table>\n",
       "</div>"
      ],
      "text/plain": [
       "   index  accuracy  precision  recall   ROC_AUC   Time\n",
       "0      0  0.981982   0.965318     1.0  0.981928  03:11\n",
       "1      1  0.981982   0.967213     1.0  0.980769  03:02\n",
       "2      2  0.982036   0.966851     1.0  0.981132  03:04"
      ]
     },
     "execution_count": 40,
     "metadata": {},
     "output_type": "execute_result"
    }
   ],
   "source": [
    "Alg2_MC_df"
   ]
  },
  {
   "cell_type": "markdown",
   "metadata": {},
   "source": [
    "# Third algorithm"
   ]
  },
  {
   "cell_type": "markdown",
   "metadata": {},
   "source": [
    "## Tic-Tac-Toe End game Dataset UCI"
   ]
  },
  {
   "cell_type": "code",
   "execution_count": 43,
   "metadata": {},
   "outputs": [
    {
     "name": "stderr",
     "output_type": "stream",
     "text": [
      "100%|██████████| 319/319 [01:24<00:00,  3.41it/s]\n",
      "100%|██████████| 319/319 [01:35<00:00,  3.61it/s]\n",
      "100%|██████████| 320/320 [01:22<00:00,  3.62it/s]\n"
     ]
    }
   ],
   "source": [
    "Alg3_TTT = cross_validation(data_TTT, target_column='V10',\n",
    "                            Kfolds=3, shuffle=True, model='FCA',\n",
    "                                 model_params= {'max_int':1, 'min_elems':0.7,'balance':True, 'prop':1})"
   ]
  },
  {
   "cell_type": "code",
   "execution_count": 44,
   "metadata": {},
   "outputs": [],
   "source": [
    "Alg3_TTT_df = pd.DataFrame(Alg3_TTT)\n",
    "Alg3_TTT_df['Time'] = ['01:24', '01:35', '01:22']\n",
    "Alg3_TTT_df = Alg3_TTT_df.reset_index()"
   ]
  },
  {
   "cell_type": "code",
   "execution_count": 45,
   "metadata": {},
   "outputs": [
    {
     "data": {
      "text/html": [
       "<div>\n",
       "<style scoped>\n",
       "    .dataframe tbody tr th:only-of-type {\n",
       "        vertical-align: middle;\n",
       "    }\n",
       "\n",
       "    .dataframe tbody tr th {\n",
       "        vertical-align: top;\n",
       "    }\n",
       "\n",
       "    .dataframe thead th {\n",
       "        text-align: right;\n",
       "    }\n",
       "</style>\n",
       "<table border=\"1\" class=\"dataframe\">\n",
       "  <thead>\n",
       "    <tr style=\"text-align: right;\">\n",
       "      <th></th>\n",
       "      <th>index</th>\n",
       "      <th>accuracy</th>\n",
       "      <th>precision</th>\n",
       "      <th>recall</th>\n",
       "      <th>ROC_AUC</th>\n",
       "      <th>Time</th>\n",
       "    </tr>\n",
       "  </thead>\n",
       "  <tbody>\n",
       "    <tr>\n",
       "      <th>0</th>\n",
       "      <td>0</td>\n",
       "      <td>0.849530</td>\n",
       "      <td>0.890547</td>\n",
       "      <td>0.873171</td>\n",
       "      <td>0.840094</td>\n",
       "      <td>01:24</td>\n",
       "    </tr>\n",
       "    <tr>\n",
       "      <th>1</th>\n",
       "      <td>1</td>\n",
       "      <td>0.833856</td>\n",
       "      <td>0.870968</td>\n",
       "      <td>0.883178</td>\n",
       "      <td>0.808255</td>\n",
       "      <td>01:35</td>\n",
       "    </tr>\n",
       "    <tr>\n",
       "      <th>2</th>\n",
       "      <td>2</td>\n",
       "      <td>0.896875</td>\n",
       "      <td>0.922330</td>\n",
       "      <td>0.917874</td>\n",
       "      <td>0.888141</td>\n",
       "      <td>01:22</td>\n",
       "    </tr>\n",
       "  </tbody>\n",
       "</table>\n",
       "</div>"
      ],
      "text/plain": [
       "   index  accuracy  precision    recall   ROC_AUC   Time\n",
       "0      0  0.849530   0.890547  0.873171  0.840094  01:24\n",
       "1      1  0.833856   0.870968  0.883178  0.808255  01:35\n",
       "2      2  0.896875   0.922330  0.917874  0.888141  01:22"
      ]
     },
     "execution_count": 45,
     "metadata": {},
     "output_type": "execute_result"
    }
   ],
   "source": [
    "Alg3_TTT_df"
   ]
  },
  {
   "cell_type": "markdown",
   "metadata": {},
   "source": [
    "## Mushroom Classification"
   ]
  },
  {
   "cell_type": "code",
   "execution_count": 46,
   "metadata": {},
   "outputs": [
    {
     "name": "stderr",
     "output_type": "stream",
     "text": [
      "100%|██████████| 333/333 [03:18<00:00,  1.58it/s]\n",
      "100%|██████████| 333/333 [03:15<00:00,  1.42it/s]\n",
      "100%|██████████| 334/334 [03:12<00:00,  1.23it/s]\n"
     ]
    }
   ],
   "source": [
    "Alg3_MC = cross_validation(data_MC_short, target_column='class',\n",
    "                            Kfolds=3, shuffle=True, model='FCA',\n",
    "                                 model_params= {'max_int':1, 'min_elems':0.9,'balance':True, 'prop':1})"
   ]
  },
  {
   "cell_type": "code",
   "execution_count": 47,
   "metadata": {},
   "outputs": [],
   "source": [
    "Alg3_MC_df = pd.DataFrame(Alg3_MC)\n",
    "Alg3_MC_df['Time'] = ['03:18', '03:15', '03:12']\n",
    "Alg3_MC_df = Alg3_MC_df.reset_index()"
   ]
  },
  {
   "cell_type": "code",
   "execution_count": 48,
   "metadata": {},
   "outputs": [
    {
     "data": {
      "text/html": [
       "<div>\n",
       "<style scoped>\n",
       "    .dataframe tbody tr th:only-of-type {\n",
       "        vertical-align: middle;\n",
       "    }\n",
       "\n",
       "    .dataframe tbody tr th {\n",
       "        vertical-align: top;\n",
       "    }\n",
       "\n",
       "    .dataframe thead th {\n",
       "        text-align: right;\n",
       "    }\n",
       "</style>\n",
       "<table border=\"1\" class=\"dataframe\">\n",
       "  <thead>\n",
       "    <tr style=\"text-align: right;\">\n",
       "      <th></th>\n",
       "      <th>index</th>\n",
       "      <th>accuracy</th>\n",
       "      <th>precision</th>\n",
       "      <th>recall</th>\n",
       "      <th>ROC_AUC</th>\n",
       "      <th>Time</th>\n",
       "    </tr>\n",
       "  </thead>\n",
       "  <tbody>\n",
       "    <tr>\n",
       "      <th>0</th>\n",
       "      <td>0</td>\n",
       "      <td>0.993994</td>\n",
       "      <td>0.988764</td>\n",
       "      <td>1.000000</td>\n",
       "      <td>0.993631</td>\n",
       "      <td>03:18</td>\n",
       "    </tr>\n",
       "    <tr>\n",
       "      <th>1</th>\n",
       "      <td>1</td>\n",
       "      <td>0.987988</td>\n",
       "      <td>0.984043</td>\n",
       "      <td>0.994624</td>\n",
       "      <td>0.987108</td>\n",
       "      <td>03:15</td>\n",
       "    </tr>\n",
       "    <tr>\n",
       "      <th>2</th>\n",
       "      <td>2</td>\n",
       "      <td>0.964072</td>\n",
       "      <td>0.934132</td>\n",
       "      <td>0.993631</td>\n",
       "      <td>0.965742</td>\n",
       "      <td>03:12</td>\n",
       "    </tr>\n",
       "  </tbody>\n",
       "</table>\n",
       "</div>"
      ],
      "text/plain": [
       "   index  accuracy  precision    recall   ROC_AUC   Time\n",
       "0      0  0.993994   0.988764  1.000000  0.993631  03:18\n",
       "1      1  0.987988   0.984043  0.994624  0.987108  03:15\n",
       "2      2  0.964072   0.934132  0.993631  0.965742  03:12"
      ]
     },
     "execution_count": 48,
     "metadata": {},
     "output_type": "execute_result"
    }
   ],
   "source": [
    "Alg3_MC_df"
   ]
  },
  {
   "cell_type": "markdown",
   "metadata": {},
   "source": [
    "# Fourth algorithm"
   ]
  },
  {
   "cell_type": "markdown",
   "metadata": {},
   "source": [
    "## Tic-Tac-Toe End game Dataset UCI"
   ]
  },
  {
   "cell_type": "code",
   "execution_count": 49,
   "metadata": {
    "scrolled": true
   },
   "outputs": [
    {
     "name": "stderr",
     "output_type": "stream",
     "text": [
      "100%|██████████| 319/319 [00:23<00:00, 15.41it/s]\n",
      "100%|██████████| 319/319 [00:20<00:00, 15.54it/s]\n",
      "100%|██████████| 320/320 [00:21<00:00, 14.09it/s]\n"
     ]
    }
   ],
   "source": [
    "Alg4_TTT = cross_validation(data_TTT, target_column='V10',\n",
    "                            Kfolds=3, shuffle=True, model='FCA',\n",
    "                                 model_params= {'max_int':1, 'min_elems':0.7,'balance':True, 'prop':0.5})"
   ]
  },
  {
   "cell_type": "code",
   "execution_count": 55,
   "metadata": {},
   "outputs": [],
   "source": [
    "Alg4_TTT_df = pd.DataFrame(Alg4_TTT)\n",
    "Alg4_TTT_df['Time'] = ['00:23', '00:20', '00:21']\n",
    "Alg4_TTT_df = Alg4_TTT_df.reset_index()"
   ]
  },
  {
   "cell_type": "code",
   "execution_count": 56,
   "metadata": {},
   "outputs": [
    {
     "data": {
      "text/html": [
       "<div>\n",
       "<style scoped>\n",
       "    .dataframe tbody tr th:only-of-type {\n",
       "        vertical-align: middle;\n",
       "    }\n",
       "\n",
       "    .dataframe tbody tr th {\n",
       "        vertical-align: top;\n",
       "    }\n",
       "\n",
       "    .dataframe thead th {\n",
       "        text-align: right;\n",
       "    }\n",
       "</style>\n",
       "<table border=\"1\" class=\"dataframe\">\n",
       "  <thead>\n",
       "    <tr style=\"text-align: right;\">\n",
       "      <th></th>\n",
       "      <th>index</th>\n",
       "      <th>accuracy</th>\n",
       "      <th>precision</th>\n",
       "      <th>recall</th>\n",
       "      <th>ROC_AUC</th>\n",
       "      <th>Time</th>\n",
       "    </tr>\n",
       "  </thead>\n",
       "  <tbody>\n",
       "    <tr>\n",
       "      <th>0</th>\n",
       "      <td>0</td>\n",
       "      <td>0.768025</td>\n",
       "      <td>0.855721</td>\n",
       "      <td>0.792627</td>\n",
       "      <td>0.754157</td>\n",
       "      <td>00:23</td>\n",
       "    </tr>\n",
       "    <tr>\n",
       "      <th>1</th>\n",
       "      <td>1</td>\n",
       "      <td>0.833856</td>\n",
       "      <td>0.911111</td>\n",
       "      <td>0.815920</td>\n",
       "      <td>0.840164</td>\n",
       "      <td>00:20</td>\n",
       "    </tr>\n",
       "    <tr>\n",
       "      <th>2</th>\n",
       "      <td>2</td>\n",
       "      <td>0.762500</td>\n",
       "      <td>0.823529</td>\n",
       "      <td>0.807692</td>\n",
       "      <td>0.743132</td>\n",
       "      <td>00:21</td>\n",
       "    </tr>\n",
       "  </tbody>\n",
       "</table>\n",
       "</div>"
      ],
      "text/plain": [
       "   index  accuracy  precision    recall   ROC_AUC   Time\n",
       "0      0  0.768025   0.855721  0.792627  0.754157  00:23\n",
       "1      1  0.833856   0.911111  0.815920  0.840164  00:20\n",
       "2      2  0.762500   0.823529  0.807692  0.743132  00:21"
      ]
     },
     "execution_count": 56,
     "metadata": {},
     "output_type": "execute_result"
    }
   ],
   "source": [
    "Alg4_TTT_df"
   ]
  },
  {
   "cell_type": "markdown",
   "metadata": {},
   "source": [
    "## Mushroom Classification"
   ]
  },
  {
   "cell_type": "code",
   "execution_count": 58,
   "metadata": {},
   "outputs": [
    {
     "name": "stderr",
     "output_type": "stream",
     "text": [
      "100%|██████████| 333/333 [00:52<00:00,  4.80it/s]\n",
      "100%|██████████| 333/333 [00:49<00:00,  6.90it/s]\n",
      "100%|██████████| 334/334 [00:49<00:00,  6.75it/s]\n"
     ]
    }
   ],
   "source": [
    "Alg4_MC = cross_validation(data_MC_short, target_column='class',\n",
    "                            Kfolds=3, shuffle=True, model='FCA',\n",
    "                                 model_params= {'max_int':1, 'min_elems':0.9,'balance':True, 'prop':0.5})"
   ]
  },
  {
   "cell_type": "code",
   "execution_count": 59,
   "metadata": {},
   "outputs": [],
   "source": [
    "Alg4_MC_df = pd.DataFrame(Alg4_MC)\n",
    "Alg4_MC_df['Time'] = ['00:52', '00:49', '00:49']\n",
    "Alg4_MC_df = Alg4_MC_df.reset_index()"
   ]
  },
  {
   "cell_type": "code",
   "execution_count": 60,
   "metadata": {},
   "outputs": [
    {
     "data": {
      "text/html": [
       "<div>\n",
       "<style scoped>\n",
       "    .dataframe tbody tr th:only-of-type {\n",
       "        vertical-align: middle;\n",
       "    }\n",
       "\n",
       "    .dataframe tbody tr th {\n",
       "        vertical-align: top;\n",
       "    }\n",
       "\n",
       "    .dataframe thead th {\n",
       "        text-align: right;\n",
       "    }\n",
       "</style>\n",
       "<table border=\"1\" class=\"dataframe\">\n",
       "  <thead>\n",
       "    <tr style=\"text-align: right;\">\n",
       "      <th></th>\n",
       "      <th>index</th>\n",
       "      <th>accuracy</th>\n",
       "      <th>precision</th>\n",
       "      <th>recall</th>\n",
       "      <th>ROC_AUC</th>\n",
       "      <th>Time</th>\n",
       "    </tr>\n",
       "  </thead>\n",
       "  <tbody>\n",
       "    <tr>\n",
       "      <th>0</th>\n",
       "      <td>0</td>\n",
       "      <td>0.975976</td>\n",
       "      <td>0.961538</td>\n",
       "      <td>0.994318</td>\n",
       "      <td>0.974866</td>\n",
       "      <td>00:52</td>\n",
       "    </tr>\n",
       "    <tr>\n",
       "      <th>1</th>\n",
       "      <td>1</td>\n",
       "      <td>0.972973</td>\n",
       "      <td>0.965714</td>\n",
       "      <td>0.982558</td>\n",
       "      <td>0.972646</td>\n",
       "      <td>00:49</td>\n",
       "    </tr>\n",
       "    <tr>\n",
       "      <th>2</th>\n",
       "      <td>2</td>\n",
       "      <td>0.985030</td>\n",
       "      <td>0.977011</td>\n",
       "      <td>0.994152</td>\n",
       "      <td>0.984806</td>\n",
       "      <td>00:49</td>\n",
       "    </tr>\n",
       "  </tbody>\n",
       "</table>\n",
       "</div>"
      ],
      "text/plain": [
       "   index  accuracy  precision    recall   ROC_AUC   Time\n",
       "0      0  0.975976   0.961538  0.994318  0.974866  00:52\n",
       "1      1  0.972973   0.965714  0.982558  0.972646  00:49\n",
       "2      2  0.985030   0.977011  0.994152  0.984806  00:49"
      ]
     },
     "execution_count": 60,
     "metadata": {},
     "output_type": "execute_result"
    }
   ],
   "source": [
    "Alg4_MC_df"
   ]
  },
  {
   "cell_type": "code",
   "execution_count": null,
   "metadata": {},
   "outputs": [],
   "source": []
  }
 ],
 "metadata": {
  "kernelspec": {
   "display_name": "Python 3",
   "language": "python",
   "name": "python3"
  },
  "language_info": {
   "codemirror_mode": {
    "name": "ipython",
    "version": 3
   },
   "file_extension": ".py",
   "mimetype": "text/x-python",
   "name": "python",
   "nbconvert_exporter": "python",
   "pygments_lexer": "ipython3",
   "version": "3.7.3"
  }
 },
 "nbformat": 4,
 "nbformat_minor": 2
}
