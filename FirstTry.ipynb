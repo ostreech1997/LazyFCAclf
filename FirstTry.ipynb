{
 "cells": [
  {
   "cell_type": "code",
   "execution_count": 57,
   "metadata": {},
   "outputs": [],
   "source": [
    "import pandas as pd\n",
    "import numpy as np"
   ]
  },
  {
   "cell_type": "code",
   "execution_count": 58,
   "metadata": {},
   "outputs": [],
   "source": [
    "from tqdm import tqdm"
   ]
  },
  {
   "cell_type": "code",
   "execution_count": 111,
   "metadata": {},
   "outputs": [],
   "source": [
    "data = pd.read_csv('Data/tic-tac-toe-endgame.csv')"
   ]
  },
  {
   "cell_type": "code",
   "execution_count": 4,
   "metadata": {},
   "outputs": [],
   "source": [
    "data = pd.read_csv('Data/train1.csv')\n",
    "test = pd.read_csv('Data/test1.csv')"
   ]
  },
  {
   "cell_type": "code",
   "execution_count": 83,
   "metadata": {},
   "outputs": [],
   "source": [
    "# From Strock github\n",
    "train = pd.read_csv('Data/train1.csv')\n",
    "test = pd.read_csv('Data/test1.csv')"
   ]
  },
  {
   "cell_type": "code",
   "execution_count": 86,
   "metadata": {},
   "outputs": [],
   "source": [
    "train = train.replace('positive', 1)\n",
    "train = train.replace('negative', 0)\n",
    "\n",
    "test = test.replace('positive', 1)\n",
    "test = test.replace('negative', 0)"
   ]
  },
  {
   "cell_type": "code",
   "execution_count": 488,
   "metadata": {},
   "outputs": [],
   "source": [
    "train = train.replace('positive', True)\n",
    "train = train.replace('negative', False)\n",
    "\n",
    "test = test.replace('positive', True)\n",
    "test = test.replace('negative', False)\n",
    "\n",
    "\n",
    "\n",
    "train = pd.get_dummies(train, \n",
    "                           columns = ['V1','V2','V3','V4','V5','V6','V7','V8','V9'])\n",
    "\n",
    "test = pd.get_dummies(test, \n",
    "                           columns = ['V1','V2','V3','V4','V5','V6','V7','V8','V9'])"
   ]
  },
  {
   "cell_type": "code",
   "execution_count": 5,
   "metadata": {
    "scrolled": true
   },
   "outputs": [],
   "source": [
    "data = data.sample(frac=1)"
   ]
  },
  {
   "cell_type": "code",
   "execution_count": 6,
   "metadata": {},
   "outputs": [],
   "source": [
    "data = data.reset_index(drop=True)"
   ]
  },
  {
   "cell_type": "code",
   "execution_count": 7,
   "metadata": {},
   "outputs": [],
   "source": [
    "m, n = data.shape"
   ]
  },
  {
   "cell_type": "code",
   "execution_count": 8,
   "metadata": {},
   "outputs": [],
   "source": [
    "train = data\n",
    "train = data.iloc[:int(0.9*m),:]\n",
    "test = data.iloc[int(0.9*m):,:]"
   ]
  },
  {
   "cell_type": "code",
   "execution_count": 9,
   "metadata": {},
   "outputs": [
    {
     "data": {
      "text/plain": [
       "positive    565\n",
       "negative    300\n",
       "Name: V10, dtype: int64"
      ]
     },
     "execution_count": 9,
     "metadata": {},
     "output_type": "execute_result"
    }
   ],
   "source": [
    "data['V10'].value_counts()"
   ]
  },
  {
   "cell_type": "code",
   "execution_count": 87,
   "metadata": {},
   "outputs": [],
   "source": [
    "X = train.drop(['V10'], axis=1)\n",
    "Y = train['V10']\n",
    "for col in X:\n",
    "    X.loc[X[col]!='x',col] = 0\n",
    "    X.loc[X[col]=='x',col] = 1"
   ]
  },
  {
   "cell_type": "code",
   "execution_count": 11,
   "metadata": {},
   "outputs": [],
   "source": [
    "X_pos = X[train['V10'] == 'positive']\n",
    "X_neg = X[train['V10'] != 'positive']"
   ]
  },
  {
   "cell_type": "code",
   "execution_count": 88,
   "metadata": {
    "scrolled": true
   },
   "outputs": [],
   "source": [
    "X_test = test.drop(['V10'], axis=1)\n",
    "for col in X:\n",
    "    X_test.loc[X_test[col]!='x',col] = 0\n",
    "    X_test.loc[X_test[col]=='x',col] = 1"
   ]
  },
  {
   "cell_type": "code",
   "execution_count": 89,
   "metadata": {},
   "outputs": [],
   "source": [
    "# test.loc[test.V10 == 'negative','V10'] = 0\n",
    "# test.loc[test.V10 == 'positive','V10'] = 1\n",
    "Y_test = test['V10'].to_numpy()"
   ]
  },
  {
   "cell_type": "code",
   "execution_count": 90,
   "metadata": {},
   "outputs": [],
   "source": [
    "Y_test = Y_test.astype('int64')"
   ]
  },
  {
   "cell_type": "code",
   "execution_count": 91,
   "metadata": {},
   "outputs": [
    {
     "data": {
      "text/plain": [
       "array([1, 1, 1, 1, 1, 1, 1, 1, 1, 1, 1, 1, 1, 1, 1, 1, 1, 1, 1, 1, 1, 1,\n",
       "       1, 1, 1, 1, 1, 1, 1, 1, 1, 1, 1, 1, 1, 1, 1, 1, 1, 1, 1, 1, 1, 1,\n",
       "       1, 1, 1, 1, 1, 1, 1, 1, 1, 1, 1, 1, 1, 1, 1, 1, 1, 0, 0, 0, 0, 0,\n",
       "       0, 0, 0, 0, 0, 0, 0, 0, 0, 0, 0, 0, 0, 0, 0, 0, 0, 0, 0, 0, 0, 0,\n",
       "       0, 0, 0, 0, 0])"
      ]
     },
     "execution_count": 91,
     "metadata": {},
     "output_type": "execute_result"
    }
   ],
   "source": [
    "Y_test"
   ]
  },
  {
   "cell_type": "markdown",
   "metadata": {},
   "source": [
    "# Alogorithm"
   ]
  },
  {
   "cell_type": "code",
   "execution_count": 92,
   "metadata": {},
   "outputs": [],
   "source": [
    "C_test = X_test.to_numpy()"
   ]
  },
  {
   "cell_type": "code",
   "execution_count": 94,
   "metadata": {},
   "outputs": [],
   "source": [
    "# C_plus = X[Y==True].to_numpy()\n",
    "C_plus = X_pos.to_numpy()"
   ]
  },
  {
   "cell_type": "code",
   "execution_count": 95,
   "metadata": {},
   "outputs": [],
   "source": [
    "# C_minus = X[Y==False].to_numpy()\n",
    "C_minus = X_neg.to_numpy()"
   ]
  },
  {
   "cell_type": "code",
   "execution_count": 120,
   "metadata": {},
   "outputs": [],
   "source": [
    "def preprocessing(file_name='Data/tic-tac-toe-endgame.csv', target_column = 'V10',\n",
    "                  train_part=0.8, shuffle = True, class_labels=['negative','positive']):\n",
    "    # Load data from file\n",
    "    data = pd.read_csv(file_name)\n",
    "    # Random shuffle\n",
    "    if shuffle:\n",
    "        data = data.sample(frac=1)\n",
    "        \n",
    "    data = data.reset_index(drop=True)\n",
    "    m, n = data.shape\n",
    "    # Split data\n",
    "    for col in data.drop(target_column, axis=1):\n",
    "        data.loc[data[col]!='x',col] = 0\n",
    "        data.loc[data[col]=='x',col] = 1\n",
    "        \n",
    "    train = data.iloc[:int(train_part*m),:]\n",
    "    test = data.iloc[int(train_part*m):,:]\n",
    "    \n",
    "    train = train.replace(class_labels[1], 1)\n",
    "    train = train.replace(class_labels[0], 0)\n",
    "\n",
    "    test = test.replace(class_labels[1], 1)\n",
    "    test = test.replace(class_labels[0], 0)    \n",
    "    \n",
    "    X_train = train.drop(['V10'], axis=1)\n",
    "    Y = train['V10']\n",
    "    \n",
    "    X_test = test.drop(['V10'], axis=1)\n",
    "    \n",
    "    Y_test = test['V10'].to_numpy()\n",
    "    Y_test = Y_test.astype('int64')\n",
    "    \n",
    "    \n",
    "    # Devide train sample into C_plus and C_minus\n",
    "    \n",
    "    C_test = X_test.to_numpy()\n",
    "    \n",
    "    C_plus = X_train[Y == 1].to_numpy()\n",
    "    C_minus = X_train[Y == 0].to_numpy()\n",
    "    \n",
    "    data_dict = {'C_plus':C_plus, 'C_minus':C_minus, 'C_test':C_test, 'Y_test':Y_test}\n",
    "    \n",
    "    return data_dict\n",
    "    "
   ]
  },
  {
   "cell_type": "code",
   "execution_count": 96,
   "metadata": {},
   "outputs": [],
   "source": [
    "# check \n",
    "def intersection_func(a1,a2):\n",
    "    output = np.equal(a1,a2)\n",
    "    output_ind = [i for i,x in enumerate(output) if x]\n",
    "    return output, output_ind"
   ]
  },
  {
   "cell_type": "code",
   "execution_count": 97,
   "metadata": {},
   "outputs": [],
   "source": [
    "def calculate_intersection(C, example, intersection_ind, max_int = 1):\n",
    "    k = 0\n",
    "    for x in C:\n",
    "        intersection_i, intersection_ind_i = intersection_func(example, x)\n",
    "#         print('BIG:',intersection_ind)\n",
    "#         print('SMALL:',intersection_ind_i)\n",
    "        if set(intersection_ind).issubset(set(intersection_ind_i)):\n",
    "            k += 1\n",
    "            if k >= max_int:\n",
    "                return 0\n",
    "    return 1"
   ]
  },
  {
   "cell_type": "code",
   "execution_count": 98,
   "metadata": {},
   "outputs": [],
   "source": [
    "def LazyFCAclf(C_plus,C_minus,new_example):\n",
    "    num_pos = 0\n",
    "    num_neg = 0\n",
    "\n",
    "    for x in C_plus:\n",
    "        intersection, intersection_ind = intersection_func(new_example, x)\n",
    "        num_pos += calculate_intersection(C_minus, new_example, intersection_ind)\n",
    "\n",
    "    for x in C_minus:\n",
    "        intersection, intersection_ind = intersection_func(new_example, x)\n",
    "        num_neg += calculate_intersection(C_plus, new_example, intersection_ind)\n",
    "    \n",
    "    if num_pos >= num_neg:\n",
    "        \n",
    "        return 1\n",
    "    \n",
    "    else:\n",
    "        \n",
    "        return 0"
   ]
  },
  {
   "cell_type": "code",
   "execution_count": 116,
   "metadata": {},
   "outputs": [],
   "source": [
    "def Predict(data_dict):\n",
    "    \n",
    "    Y_pred = []\n",
    "    for x in tqdm(data_dict['C_test']):\n",
    "        Y_pred.append(LazyFCAclf(data_dict['C_plus'], data_dict['C_minus'], x))\n",
    "    \n",
    "    Y_pred = np.array(Y_pred)\n",
    "    \n",
    "    print('ACCURACY:', accuracy_score(y_true=data_dict['Y_test'], y_pred=Y_pred))    \n",
    "    print('PRECISION:', precision_score(y_true=data_dict['Y_test'], y_pred=Y_pred))\n",
    "    print('RECALL:', recall_score(y_true=data_dict['Y_test'], y_pred=Y_pred))\n",
    "    print('ROC_AUC:', roc_auc_score(y_true=data_dict['Y_test'], y_score=Y_pred))\n",
    "    \n",
    "    return Y_pred"
   ]
  },
  {
   "cell_type": "code",
   "execution_count": null,
   "metadata": {},
   "outputs": [],
   "source": []
  },
  {
   "cell_type": "code",
   "execution_count": 122,
   "metadata": {},
   "outputs": [
    {
     "name": "stderr",
     "output_type": "stream",
     "text": [
      "100%|██████████| 192/192 [00:56<00:00,  3.69it/s]"
     ]
    },
    {
     "name": "stdout",
     "output_type": "stream",
     "text": [
      "ACCURACY: 0.984375\n",
      "PRECISION: 0.9767441860465116\n",
      "RECALL: 1.0\n",
      "ROC_AUC: 0.9772727272727273\n"
     ]
    },
    {
     "name": "stderr",
     "output_type": "stream",
     "text": [
      "\n"
     ]
    }
   ],
   "source": [
    "data_dict = preprocessing()\n",
    "y_pred = Predict(data_dict)"
   ]
  },
  {
   "cell_type": "code",
   "execution_count": null,
   "metadata": {},
   "outputs": [],
   "source": []
  },
  {
   "cell_type": "code",
   "execution_count": null,
   "metadata": {},
   "outputs": [],
   "source": []
  },
  {
   "cell_type": "code",
   "execution_count": null,
   "metadata": {},
   "outputs": [],
   "source": []
  },
  {
   "cell_type": "code",
   "execution_count": null,
   "metadata": {},
   "outputs": [],
   "source": []
  },
  {
   "cell_type": "code",
   "execution_count": null,
   "metadata": {},
   "outputs": [],
   "source": []
  },
  {
   "cell_type": "code",
   "execution_count": null,
   "metadata": {},
   "outputs": [],
   "source": []
  },
  {
   "cell_type": "code",
   "execution_count": null,
   "metadata": {},
   "outputs": [],
   "source": []
  },
  {
   "cell_type": "code",
   "execution_count": null,
   "metadata": {},
   "outputs": [],
   "source": []
  },
  {
   "cell_type": "code",
   "execution_count": 99,
   "metadata": {},
   "outputs": [
    {
     "name": "stderr",
     "output_type": "stream",
     "text": [
      "100%|██████████| 93/93 [00:25<00:00,  3.18it/s]\n"
     ]
    }
   ],
   "source": [
    "ans = []\n",
    "for i in tqdm(C_test):\n",
    "    ans.append(LazyFCAclf(C_plus, C_minus, i))\n",
    "    "
   ]
  },
  {
   "cell_type": "code",
   "execution_count": 100,
   "metadata": {},
   "outputs": [
    {
     "name": "stdout",
     "output_type": "stream",
     "text": [
      "[1 1 1 1 1 1 1 1 1 1 1 1 1 1 1 1 1 1 1 1 1 1 1 1 1 1 1 1 1 1 1 1 1 1 1 1 1\n",
      " 1 1 1 1 1 1 1 1 1 1 1 1 1 1 1 1 1 1 1 1 1 1 1 1 0 0 0 0 0 0 0 0 0 0 0 0 0\n",
      " 1 0 0 0 0 0 0 0 0 0 0 0 0 0 0 0 0 0 0]\n"
     ]
    }
   ],
   "source": [
    "ans = np.array(ans)\n",
    "print(ans)"
   ]
  },
  {
   "cell_type": "code",
   "execution_count": 105,
   "metadata": {},
   "outputs": [],
   "source": [
    "from sklearn.metrics import roc_auc_score, accuracy_score, precision_score, recall_score"
   ]
  },
  {
   "cell_type": "code",
   "execution_count": 106,
   "metadata": {},
   "outputs": [
    {
     "data": {
      "text/plain": [
       "numpy.int64"
      ]
     },
     "execution_count": 106,
     "metadata": {},
     "output_type": "execute_result"
    }
   ],
   "source": [
    "type(ans[0])"
   ]
  },
  {
   "cell_type": "code",
   "execution_count": null,
   "metadata": {},
   "outputs": [],
   "source": []
  },
  {
   "cell_type": "code",
   "execution_count": 107,
   "metadata": {
    "scrolled": true
   },
   "outputs": [
    {
     "data": {
      "text/plain": [
       "0.984375"
      ]
     },
     "execution_count": 107,
     "metadata": {},
     "output_type": "execute_result"
    }
   ],
   "source": [
    "roc_auc_score(y_true=Y_test, y_score=ans)"
   ]
  },
  {
   "cell_type": "code",
   "execution_count": 108,
   "metadata": {},
   "outputs": [
    {
     "data": {
      "text/plain": [
       "0.989247311827957"
      ]
     },
     "execution_count": 108,
     "metadata": {},
     "output_type": "execute_result"
    }
   ],
   "source": [
    "accuracy_score(y_true=Y_test, y_pred=ans)"
   ]
  },
  {
   "cell_type": "code",
   "execution_count": 109,
   "metadata": {},
   "outputs": [
    {
     "data": {
      "text/plain": [
       "0.9838709677419355"
      ]
     },
     "execution_count": 109,
     "metadata": {},
     "output_type": "execute_result"
    }
   ],
   "source": [
    "precision_score(y_true=Y_test, y_pred=ans)"
   ]
  },
  {
   "cell_type": "code",
   "execution_count": 110,
   "metadata": {},
   "outputs": [
    {
     "data": {
      "text/plain": [
       "1.0"
      ]
     },
     "execution_count": 110,
     "metadata": {},
     "output_type": "execute_result"
    }
   ],
   "source": [
    "recall_score(y_true=Y_test, y_pred=ans)"
   ]
  },
  {
   "cell_type": "code",
   "execution_count": null,
   "metadata": {},
   "outputs": [],
   "source": []
  },
  {
   "cell_type": "code",
   "execution_count": null,
   "metadata": {},
   "outputs": [],
   "source": []
  },
  {
   "cell_type": "code",
   "execution_count": null,
   "metadata": {},
   "outputs": [],
   "source": []
  },
  {
   "cell_type": "code",
   "execution_count": null,
   "metadata": {},
   "outputs": [],
   "source": []
  },
  {
   "cell_type": "code",
   "execution_count": null,
   "metadata": {},
   "outputs": [],
   "source": []
  },
  {
   "cell_type": "code",
   "execution_count": null,
   "metadata": {},
   "outputs": [],
   "source": []
  },
  {
   "cell_type": "code",
   "execution_count": null,
   "metadata": {},
   "outputs": [],
   "source": []
  },
  {
   "cell_type": "code",
   "execution_count": null,
   "metadata": {},
   "outputs": [],
   "source": []
  },
  {
   "cell_type": "code",
   "execution_count": null,
   "metadata": {},
   "outputs": [],
   "source": []
  },
  {
   "cell_type": "code",
   "execution_count": null,
   "metadata": {},
   "outputs": [],
   "source": []
  },
  {
   "cell_type": "code",
   "execution_count": 570,
   "metadata": {
    "scrolled": true
   },
   "outputs": [
    {
     "data": {
      "text/plain": [
       "0.75"
      ]
     },
     "execution_count": 570,
     "metadata": {},
     "output_type": "execute_result"
    }
   ],
   "source": [
    "roc_auc_score(y_true=Y_test, y_score=ans)"
   ]
  },
  {
   "cell_type": "code",
   "execution_count": 571,
   "metadata": {},
   "outputs": [
    {
     "data": {
      "text/plain": [
       "0.8279569892473119"
      ]
     },
     "execution_count": 571,
     "metadata": {},
     "output_type": "execute_result"
    }
   ],
   "source": [
    "accuracy_score(y_true=Y_test, y_pred=ans)"
   ]
  },
  {
   "cell_type": "code",
   "execution_count": 572,
   "metadata": {},
   "outputs": [
    {
     "data": {
      "text/plain": [
       "0.7922077922077922"
      ]
     },
     "execution_count": 572,
     "metadata": {},
     "output_type": "execute_result"
    }
   ],
   "source": [
    "precision_score(y_true=Y_test, y_pred=ans)"
   ]
  },
  {
   "cell_type": "code",
   "execution_count": 573,
   "metadata": {},
   "outputs": [
    {
     "data": {
      "text/plain": [
       "1.0"
      ]
     },
     "execution_count": 573,
     "metadata": {},
     "output_type": "execute_result"
    }
   ],
   "source": [
    "recall_score(y_true=Y_test, y_pred=ans)"
   ]
  },
  {
   "cell_type": "code",
   "execution_count": null,
   "metadata": {},
   "outputs": [],
   "source": []
  },
  {
   "cell_type": "code",
   "execution_count": 136,
   "metadata": {},
   "outputs": [],
   "source": [
    "import time"
   ]
  },
  {
   "cell_type": "code",
   "execution_count": 173,
   "metadata": {},
   "outputs": [],
   "source": [
    "C_plus_test = C_plus[:5,:5]"
   ]
  },
  {
   "cell_type": "code",
   "execution_count": 174,
   "metadata": {},
   "outputs": [],
   "source": [
    "C_minus_test = C_minus[:5,:5]"
   ]
  },
  {
   "cell_type": "code",
   "execution_count": 175,
   "metadata": {},
   "outputs": [],
   "source": [
    "t1 = np.array([0,0,1,0,1,0,0,1,1])\n",
    "t1 = t1[:5]"
   ]
  },
  {
   "cell_type": "code",
   "execution_count": 176,
   "metadata": {},
   "outputs": [
    {
     "data": {
      "text/plain": [
       "array([0, 0, 1, 0, 1])"
      ]
     },
     "execution_count": 176,
     "metadata": {},
     "output_type": "execute_result"
    }
   ],
   "source": []
  }
 ],
 "metadata": {
  "kernelspec": {
   "display_name": "Python 3",
   "language": "python",
   "name": "python3"
  },
  "language_info": {
   "codemirror_mode": {
    "name": "ipython",
    "version": 3
   },
   "file_extension": ".py",
   "mimetype": "text/x-python",
   "name": "python",
   "nbconvert_exporter": "python",
   "pygments_lexer": "ipython3",
   "version": "3.7.3"
  }
 },
 "nbformat": 4,
 "nbformat_minor": 2
}
